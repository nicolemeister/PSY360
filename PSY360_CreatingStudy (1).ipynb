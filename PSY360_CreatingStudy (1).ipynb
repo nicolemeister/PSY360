{
  "cells": [
    {
      "cell_type": "code",
      "execution_count": null,
      "metadata": {
        "id": "MN4zXo36Oq7o"
      },
      "outputs": [],
      "source": [
        "#import libraries\n",
        "import cv2\n",
        "import os\n",
        "from matplotlib import pyplot as plt\n",
        "import numpy as np\n",
        "\n",
        "import shutil\n",
        "from google.colab.patches import cv2_imshow"
      ]
    },
    {
      "cell_type": "markdown",
      "source": [
        "### Code for displaying 6 intro images\n"
      ],
      "metadata": {
        "id": "RU9EUlwAecTq"
      }
    },
    {
      "cell_type": "code",
      "execution_count": null,
      "metadata": {
        "id": "49_mr_hxQ7fV"
      },
      "outputs": [],
      "source": [
        "!unzip CUB_IMAGES.zip"
      ]
    },
    {
      "cell_type": "code",
      "execution_count": null,
      "metadata": {
        "id": "bp64B0SiOvJX"
      },
      "outputs": [],
      "source": [
        "def create_6_introimgs(class_name):\n",
        "  os.listdir('CUB_IMAGES/'+class_name)\n",
        "  # create figure\n",
        "  fig = plt.figure(figsize=(50, 35))\n",
        "    \n",
        "  # setting values to rows and column variables\n",
        "  rows = 2\n",
        "  columns = 3\n",
        "\n",
        "  # randomly pick six images from the CUB dataset\n",
        "  list_of_imgs = os.listdir('CUB_IMAGES/'+class_name)\n",
        "  six_imgs = np.random.choice(list_of_imgs, 6, replace=False)\n",
        "\n",
        "  # reading images\n",
        "  Image1 = cv2.cvtColor(cv2.imread('CUB_IMAGES/'+class_name+'/'+six_imgs[0]), cv2.COLOR_BGR2RGB)\n",
        "  Image2 = cv2.cvtColor(cv2.imread('CUB_IMAGES/'+class_name+'/'+six_imgs[1]), cv2.COLOR_BGR2RGB)\n",
        "  Image3 = cv2.cvtColor(cv2.imread('CUB_IMAGES/'+class_name+'/'+six_imgs[2]), cv2.COLOR_BGR2RGB)\n",
        "  Image4 = cv2.cvtColor(cv2.imread('CUB_IMAGES/'+class_name+'/'+six_imgs[3]), cv2.COLOR_BGR2RGB)\n",
        "  Image5 = cv2.cvtColor(cv2.imread('CUB_IMAGES/'+class_name+'/'+six_imgs[4]), cv2.COLOR_BGR2RGB)\n",
        "  Image6 = cv2.cvtColor(cv2.imread('CUB_IMAGES/'+class_name+'/'+six_imgs[5]), cv2.COLOR_BGR2RGB)\n",
        "\n",
        "    \n",
        "  # Adds a subplot at the 1st position\n",
        "  fig.add_subplot(rows, columns, 1)\n",
        "    \n",
        "  # showing image\n",
        "  plt.imshow(Image1)\n",
        "  plt.axis('off')\n",
        "    \n",
        "  # Adds a subplot at the 2nd position\n",
        "  fig.add_subplot(rows, columns, 2)\n",
        "    \n",
        "  # showing image\n",
        "  plt.imshow(Image2)\n",
        "  plt.axis('off')\n",
        "    \n",
        "  # Adds a subplot at the 3rd position\n",
        "  fig.add_subplot(rows, columns, 3)\n",
        "    \n",
        "  # showing image\n",
        "  plt.imshow(Image3)\n",
        "  plt.axis('off')\n",
        "    \n",
        "  # Adds a subplot at the 4th position\n",
        "  fig.add_subplot(rows, columns, 4)\n",
        "    \n",
        "  # showing image\n",
        "  plt.imshow(Image4)\n",
        "  plt.axis('off')\n",
        "\n",
        "  # Adds a subplot at the 5th position\n",
        "  fig.add_subplot(rows, columns, 5)\n",
        "    \n",
        "  # showing image\n",
        "  plt.imshow(Image5)\n",
        "  plt.axis('off')\n",
        "\n",
        "  # Adds a subplot at the 4th position\n",
        "  fig.add_subplot(rows, columns, 6)\n",
        "    \n",
        "  # showing image\n",
        "  plt.imshow(Image6)\n",
        "  plt.axis('off')\n",
        "\n",
        "  #plt.show()\n",
        "\n",
        "  plt.savefig('6img_intro/'+class_name+'.png')"
      ]
    },
    {
      "cell_type": "code",
      "execution_count": null,
      "metadata": {
        "id": "uKeXVnWaXFKv"
      },
      "outputs": [],
      "source": [
        "!mkdir 6img_intro"
      ]
    },
    {
      "cell_type": "code",
      "execution_count": null,
      "metadata": {
        "id": "QyszM7clTDK9"
      },
      "outputs": [],
      "source": [
        "for class_name in os.listdir('CUB_IMAGES/'):\n",
        "  create_6_introimgs(class_name)"
      ]
    },
    {
      "cell_type": "code",
      "execution_count": null,
      "metadata": {
        "colab": {
          "background_save": true
        },
        "id": "4SceEkj9U-PT"
      },
      "outputs": [],
      "source": [
        "!zip -r 6img_intro.zip 6img_intro"
      ]
    },
    {
      "cell_type": "markdown",
      "source": [
        "### Pick the Top 1, 4, 10 Prototype, and Generate Random Image to include in the study"
      ],
      "metadata": {
        "id": "QfNwTbjHeXp6"
      }
    },
    {
      "cell_type": "code",
      "source": [
        "!rm -rf local_analysis"
      ],
      "metadata": {
        "id": "-jbJGoQvmHdk"
      },
      "execution_count": null,
      "outputs": []
    },
    {
      "cell_type": "code",
      "source": [
        "!rm -rf __MACOSX"
      ],
      "metadata": {
        "id": "DIftGXDzmNsZ"
      },
      "execution_count": null,
      "outputs": []
    },
    {
      "cell_type": "code",
      "execution_count": null,
      "metadata": {
        "id": "6teZdZC8VABJ"
      },
      "outputs": [],
      "source": [
        "!unzip local_analysis.zip"
      ]
    },
    {
      "cell_type": "code",
      "source": [
        "!rm -rf local_analysis/.DS_Store"
      ],
      "metadata": {
        "id": "Ii_PoBhZgoma"
      },
      "execution_count": null,
      "outputs": []
    },
    {
      "cell_type": "code",
      "source": [
        "!rm -rf googleform_imgs"
      ],
      "metadata": {
        "id": "c1wy7lXBlQUa"
      },
      "execution_count": null,
      "outputs": []
    },
    {
      "cell_type": "code",
      "source": [
        "!mkdir googleform_imgs"
      ],
      "metadata": {
        "id": "CUQBnHqGi6o4"
      },
      "execution_count": null,
      "outputs": []
    },
    {
      "cell_type": "code",
      "source": [
        "# purpose: move images from local_analysis into googleform_imgs\n",
        "def move_imgs(class_name):\n",
        "  folder1 = sorted(os.listdir('local_analysis/'+class_name))[1]\n",
        "  folder2 = '004'\n",
        "  folder3 = 'pruned_prototypes_epoch10_k6_pt3'\n",
        "  folder4 = 'top-1_class_prototypes'\n",
        "  folder5 = sorted(os.listdir('local_analysis/'+class_name+'/'+folder1+'/'+folder2+'/'+folder3+'/'+folder4))\n",
        "\n",
        "  imgs_to_mv = ['top-1_activated_prototype_in_original_pimg.png', \n",
        "                'top-4_activated_prototype_in_original_pimg.png', \n",
        "                folder5[-2]]\n",
        "  os.mkdir('googleform_imgs/'+class_name)\n",
        "  for img in imgs_to_mv:\n",
        "    curr = 'local_analysis/'+class_name+'/'+folder1+'/'+folder2+'/'+folder3+'/'+folder4+'/'+img\n",
        "    dest = 'googleform_imgs/'+class_name+'/'+img\n",
        "    shutil.move(curr, dest)\n",
        "\n",
        "  # randomly draw prototype on image\n",
        "  print('local_analysis/'+class_name+'/'+folder1+'/'+folder2+'/'+folder3+'/A'+folder1+'.jpg')\n",
        "  img = cv2.imread('local_analysis/'+class_name+'/'+folder1+'/'+folder2+'/'+folder3+'/A'+folder1+'.jpg')\n",
        "  h, w = img.shape[0], img.shape[1]\n",
        "  x_thickness, y_thickness = int(0.2 * w), int(0.2*h)\n",
        "  x = np.random.randint(0, w-x_thickness)\n",
        "  y = random.randint(0, h-y_thickness)\n",
        "  cv2.rectangle(img, (x, y), (x+x_thickness, y+y_thickness), (0, 255, 255), 3)\n",
        "  cv2.imwrite('googleform_imgs/'+class_name+'/randomimg.jpg', img)\n",
        "  return"
      ],
      "metadata": {
        "id": "-b7NeHlMiRmW"
      },
      "execution_count": null,
      "outputs": []
    },
    {
      "cell_type": "code",
      "source": [
        "img = cv2.imread('/content/ABobolink_0001_9261.jpg')\n",
        "h, w = img.shape[0], img.shape[1]\n",
        "x_thickness, y_thickness = int(0.2 * w), int(0.2*h)\n",
        "x = np.random.randint(0, w-x_thickness)\n",
        "y = random.randint(0, h-y_thickness)\n",
        "cv2.rectangle(img, (x, y), (x+x_thickness, y+y_thickness), (0, 255, 255), 3)\n",
        "cv2.imwrite()\n",
        "cv2_imshow(img)"
      ],
      "metadata": {
        "id": "rmqT_oVwCEJn"
      },
      "execution_count": null,
      "outputs": []
    },
    {
      "cell_type": "code",
      "source": [
        "for class_name in os.listdir('local_analysis/'):\n",
        "  move_imgs(class_name)"
      ],
      "metadata": {
        "id": "t-HHVccYgcn_"
      },
      "execution_count": null,
      "outputs": []
    },
    {
      "cell_type": "code",
      "source": [
        "!zip -r googleform_imgs_.zip googleform_imgs"
      ],
      "metadata": {
        "colab": {
          "base_uri": "https://localhost:8080/"
        },
        "id": "jWYalo3KR9qg",
        "outputId": "cc20a45f-82ef-4cf1-b83b-575efa30e5c1"
      },
      "execution_count": null,
      "outputs": [
        {
          "output_type": "stream",
          "name": "stdout",
          "text": [
            "  adding: googleform_imgs/ (stored 0%)\n"
          ]
        }
      ]
    },
    {
      "cell_type": "code",
      "source": [
        "!zip -r googleform_imgs_paintedbunting.zip /content/googleform_imgs/016.Painted_Bunting"
      ],
      "metadata": {
        "colab": {
          "base_uri": "https://localhost:8080/"
        },
        "id": "ukaR5KfZoDpw",
        "outputId": "d24e6a6f-22e2-4ca4-e32a-459fff1e99e1"
      },
      "execution_count": null,
      "outputs": [
        {
          "output_type": "stream",
          "name": "stdout",
          "text": [
            "  adding: content/googleform_imgs/016.Painted_Bunting/ (stored 0%)\n",
            "  adding: content/googleform_imgs/016.Painted_Bunting/top-9_activated_prototype_in_original_pimg.png (deflated 0%)\n",
            "  adding: content/googleform_imgs/016.Painted_Bunting/randomimg.jpg (deflated 0%)\n",
            "  adding: content/googleform_imgs/016.Painted_Bunting/top-4_activated_prototype_in_original_pimg.png (deflated 0%)\n",
            "  adding: content/googleform_imgs/016.Painted_Bunting/top-1_activated_prototype_in_original_pimg.png (deflated 0%)\n"
          ]
        }
      ]
    },
    {
      "cell_type": "code",
      "source": [
        ""
      ],
      "metadata": {
        "id": "xITDOmxtoGLo"
      },
      "execution_count": null,
      "outputs": []
    },
    {
      "cell_type": "markdown",
      "source": [
        "DATA ANLYSIS"
      ],
      "metadata": {
        "id": "3oX6iK6A-iXL"
      }
    },
    {
      "cell_type": "code",
      "metadata": {
        "id": "5I7ku2eh3gW0"
      },
      "source": [
        "import pickle\n",
        "import numpy as np\n",
        "from collections import defaultdict\n",
        "from operator import itemgetter\n",
        "import matplotlib.pyplot as plt\n",
        "import numpy as np\n"
      ],
      "execution_count": 1,
      "outputs": []
    },
    {
      "cell_type": "code",
      "metadata": {
        "colab": {
          "base_uri": "https://localhost:8080/"
        },
        "id": "HQq4-uyt1XCk",
        "outputId": "20d88109-c3b1-42f5-ad92-13cbb3412a50"
      },
      "source": [
        "from google.colab import drive\n",
        "drive.mount('/content/gdrive')"
      ],
      "execution_count": 2,
      "outputs": [
        {
          "output_type": "stream",
          "name": "stdout",
          "text": [
            "Mounted at /content/gdrive\n"
          ]
        }
      ]
    },
    {
      "cell_type": "code",
      "metadata": {
        "colab": {
          "base_uri": "https://localhost:8080/"
        },
        "id": "QOkizKLH2QL6",
        "outputId": "b0f0fd44-cf0c-4bd6-d753-977e32437030"
      },
      "source": [
        "cd /content/gdrive/MyDrive/PSY360"
      ],
      "execution_count": 4,
      "outputs": [
        {
          "output_type": "stream",
          "name": "stdout",
          "text": [
            "/content/gdrive/MyDrive/PSY360\n"
          ]
        }
      ]
    },
    {
      "cell_type": "code",
      "source": [
        "ls"
      ],
      "metadata": {
        "colab": {
          "base_uri": "https://localhost:8080/"
        },
        "id": "gt1MesMJ_DPs",
        "outputId": "a88d3002-79f4-481e-b6a3-606b602b8488"
      },
      "execution_count": 5,
      "outputs": [
        {
          "output_type": "stream",
          "name": "stdout",
          "text": [
            "PSY_360_Analysis.xlsx\n"
          ]
        }
      ]
    },
    {
      "cell_type": "code",
      "source": [
        "import pandas as pd\n"
      ],
      "metadata": {
        "id": "57irV3UF_D42"
      },
      "execution_count": 6,
      "outputs": []
    },
    {
      "cell_type": "code",
      "source": [
        "df = pd.read_excel('PSY_360_Analysis.xlsx')"
      ],
      "metadata": {
        "id": "KaOlM_Ck_w0P"
      },
      "execution_count": 9,
      "outputs": []
    },
    {
      "cell_type": "code",
      "source": [
        "df.columns"
      ],
      "metadata": {
        "colab": {
          "base_uri": "https://localhost:8080/"
        },
        "id": "APdSsZ2O_0Kp",
        "outputId": "d59b00cd-908c-4015-aee3-9940fb2cc7b4"
      },
      "execution_count": 10,
      "outputs": [
        {
          "output_type": "execute_result",
          "data": {
            "text/plain": [
              "Index(['A. Which feature is more prototypical?',\n",
              "       'B. Which feature is more prototypical?',\n",
              "       'C. Which feature is more prototypical?'],\n",
              "      dtype='object')"
            ]
          },
          "metadata": {},
          "execution_count": 10
        }
      ]
    },
    {
      "cell_type": "code",
      "source": [
        "A = np.array(df['A. Which feature is more prototypical?'])\n",
        "B = np.array(df['B. Which feature is more prototypical?'])\n",
        "C = np.array(df['C. Which feature is more prototypical?'])"
      ],
      "metadata": {
        "id": "Te5cTygP_3go"
      },
      "execution_count": 26,
      "outputs": []
    },
    {
      "cell_type": "code",
      "source": [
        "A = A=='Option 1'\n",
        "B = B=='Option 1'\n",
        "C = C=='Option 1'"
      ],
      "metadata": {
        "id": "A_Te44Pi_8jY"
      },
      "execution_count": 27,
      "outputs": []
    },
    {
      "cell_type": "code",
      "source": [
        "from scipy import stats\n",
        "print(stats.ttest_1samp(a=A, popmean=0.5))\n",
        "print(stats.ttest_1samp(a=B, popmean=0.5))\n",
        "print(stats.ttest_1samp(a=C, popmean=0.5))\n"
      ],
      "metadata": {
        "colab": {
          "base_uri": "https://localhost:8080/"
        },
        "id": "qalR6eUT_9Yr",
        "outputId": "07ac24d9-0d57-4cf8-ca51-e936e992c740"
      },
      "execution_count": 28,
      "outputs": [
        {
          "output_type": "stream",
          "name": "stdout",
          "text": [
            "Ttest_1sampResult(statistic=-4.6185570917233045, pvalue=5.441929931733614e-06)\n",
            "Ttest_1sampResult(statistic=-3.139201547382706, pvalue=0.0018385328383616379)\n",
            "Ttest_1sampResult(statistic=9.754697875977284, pvalue=4.8836972311056104e-20)\n"
          ]
        }
      ]
    },
    {
      "cell_type": "code",
      "source": [
        "print(np.sum(A)/len(A))\n",
        "print(np.sum(B)/len(B))\n",
        "print(np.sum(C)/len(C))"
      ],
      "metadata": {
        "colab": {
          "base_uri": "https://localhost:8080/"
        },
        "id": "wRld8REMAXz8",
        "outputId": "5518b1a6-63f6-47c6-e5bf-644d0c3a3d0f"
      },
      "execution_count": 29,
      "outputs": [
        {
          "output_type": "stream",
          "name": "stdout",
          "text": [
            "0.38\n",
            "0.41714285714285715\n",
            "0.7314285714285714\n"
          ]
        }
      ]
    },
    {
      "cell_type": "code",
      "source": [
        ""
      ],
      "metadata": {
        "id": "T6eCTnDLBH89"
      },
      "execution_count": null,
      "outputs": []
    }
  ],
  "metadata": {
    "colab": {
      "name": "PSY360_CreatingStudy.ipynb",
      "provenance": []
    },
    "kernelspec": {
      "display_name": "Python 3",
      "name": "python3"
    },
    "language_info": {
      "name": "python"
    }
  },
  "nbformat": 4,
  "nbformat_minor": 0
}